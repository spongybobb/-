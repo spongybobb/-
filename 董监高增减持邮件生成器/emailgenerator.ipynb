{
 "cells": [
  {
   "cell_type": "code",
   "execution_count": 1,
   "metadata": {},
   "outputs": [],
   "source": [
    "# 董监高\n",
    "# 需要改写时间格式"
   ]
  },
  {
   "cell_type": "code",
   "execution_count": 2,
   "metadata": {},
   "outputs": [],
   "source": [
    "# 导入所需的第三方模块\n",
    "import pandas as pd\n",
    "import time"
   ]
  },
  {
   "cell_type": "code",
   "execution_count": 3,
   "metadata": {},
   "outputs": [],
   "source": [
    "# 读取所有excel数据\n",
    "\n",
    "\n",
    "sheet = pd.read_excel('重要股东二级市场交易(明细).xlsx',header = None,skiprows = 1, skipfooter=2 ,index_col=-1)\n",
    "nrows=sheet.shape[0]\n",
    "ncols=sheet.columns.size\n"
   ]
  },
  {
   "cell_type": "code",
   "execution_count": 18,
   "metadata": {},
   "outputs": [
    {
     "name": "stdout",
     "output_type": "stream",
     "text": [
      "各位老师好，截至目前我所监测到的行业内公司董监高增减持情况如下：\n",
      "1、北斗星通(002151.SZ)郭飚(高管)于2020-06-01减持1.65万股，变动部分参考市值合计约56.81万元，变动数量占总股本比例约为0.00%；\n",
      "2、北斗星通(002151.SZ)李建辉(高管)于2020-06-01减持150.00万股，变动部分参考市值合计约5164.62万元，变动数量占总股本比例约为0.31%；\n",
      "3、北斗星通(002151.SZ)刘孝丰(高管)于2020-06-01减持1.87万股，变动部分参考市值合计约64.39万元，变动数量占总股本比例约为0.00%；\n",
      "4、北斗星通(002151.SZ)王建茹(高管)于2020-06-01减持0.66万股，变动部分参考市值合计约22.72万元，变动数量占总股本比例约为0.00%；\n",
      "5、北斗星通(002151.SZ)尤源(高管)于2020-06-01减持21.92万股，变动部分参考市值合计约754.72万元，变动数量占总股本比例约为0.04%；\n",
      "6、神州数码(000034.SZ)王晓岩(高管)于2020-06-01减持44.50万股，变动部分参考市值合计约1083.72万元，变动数量占总股本比例约为0.07%；\n",
      "7、神州数码(000034.SZ)中信建投基金-中信证券-中信建投基金定增16号资产管理计划(公司)于2020-05-29减持618.84万股，变动部分参考市值合计约15740.44万元，变动数量占总股本比例约为0.95%；\n",
      "8、神州数码(000034.SZ)陆明(个人)于2019-12-31减持5.00万股，变动部分参考市值合计约100.85万元，变动数量占总股本比例约为0.01%；\n",
      "9、神州数码(000034.SZ)李京(个人)于2019-12-31减持0.01万股，变动部分参考市值合计约0.20万元，变动数量占总股本比例约为0.00%；\n",
      "10、中孚信息(300659.SZ)厦门中孚普益投资合伙企业(有限合伙)(公司)于2020-05-29减持12.00万股，变动部分参考市值合计约665.86万元，变动数量占总股本比例约为0.06%；\n",
      "11、中孚信息(300659.SZ)厦门中孚普益投资合伙企业(有限合伙)(公司)于2020-05-28减持14.53万股，变动部分参考市值合计约780.22万元，变动数量占总股本比例约为0.07%；\n",
      "12、中孚信息(300659.SZ)厦门中孚普益投资合伙企业(有限合伙)(公司)于2020-05-27减持16.51万股，变动部分参考市值合计约909.17万元，变动数量占总股本比例约为0.08%；\n",
      "13、中孚信息(300659.SZ)厦门中孚普益投资合伙企业(有限合伙)(公司)于2020-05-26减持21.98万股，变动部分参考市值合计约1228.11万元，变动数量占总股本比例约为0.10%；\n",
      "14、中孚信息(300659.SZ)厦门中孚普益投资合伙企业(有限合伙)(公司)于2020-05-25减持18.10万股，变动部分参考市值合计约972.98万元，变动数量占总股本比例约为0.09%；\n",
      "15、中孚信息(300659.SZ)厦门中孚普益投资合伙企业(有限合伙)(公司)于2020-05-22减持19.83万股，变动部分参考市值合计约1094.74万元，变动数量占总股本比例约为0.09%；\n",
      "16、中孚信息(300659.SZ)厦门中孚普益投资合伙企业(有限合伙)(公司)于2020-05-21减持22.14万股，变动部分参考市值合计约1280.38万元，变动数量占总股本比例约为0.10%；\n",
      "17、中孚信息(300659.SZ)厦门中孚普益投资合伙企业(有限合伙)(公司)于2020-05-20减持19.69万股，变动部分参考市值合计约1182.29万元，变动数量占总股本比例约为0.09%；\n",
      "18、中孚信息(300659.SZ)厦门中孚普益投资合伙企业(有限合伙)(公司)于2020-05-19减持23.25万股，变动部分参考市值合计约1433.48万元，变动数量占总股本比例约为0.11%；\n",
      "19、中孚信息(300659.SZ)厦门中孚普益投资合伙企业(有限合伙)(公司)于2020-05-18减持19.49万股，变动部分参考市值合计约1176.21万元，变动数量占总股本比例约为0.09%；\n",
      "20、中孚信息(300659.SZ)厦门中孚普益投资合伙企业(有限合伙)(公司)于2020-05-15减持20.40万股，变动部分参考市值合计约1249.40万元，变动数量占总股本比例约为0.10%。\n"
     ]
    }
   ],
   "source": [
    "print('各位老师好，截至目前我所监测到的行业内公司董监高增减持情况如下：')\n",
    "for iRow in range(nrows):\n",
    "    \n",
    "    line = \" \" #初始化\n",
    "    \n",
    "    #设置结尾标点\n",
    "    if iRow == (nrows-1):\n",
    "        endpunc = '。'\n",
    "    else:\n",
    "        endpunc = '；'\n",
    "    \n",
    "    #没有关联股东和本人为关联股东时的句式\n",
    "    if (str(sheet.iloc[iRow,8])==\"nan\")or(str(sheet.iloc[iRow,8])==\"本人\"):\n",
    "        \n",
    "        line = str(iRow+1) + \"、\"+ sheet.iloc[iRow,1] + \"(\" + sheet.iloc[iRow,0]+ \")\" + str(sheet.iloc[iRow,5]) + \"(\" + sheet.iloc[iRow,6]+ \")\" + \"于\" + str(sheet.iloc[iRow,4])[:10] + sheet.iloc[iRow,9] + str(\"%.2f\" %sheet.iloc[iRow,10])+ \"万股\" + \"，变动部分参考市值合计约\"+ str(\"%.2f\" %sheet.iloc[iRow,20])+\"万元\"+\"，变动数量占总股本比例约为\"+str(\"%.2f\" %sheet.iloc[iRow,13])+ \"%\"\n",
    "        print(line + endpunc)\n",
    "        \n",
    "    #有关联股东时的句式    \n",
    "    else:\n",
    "        #这种句式通常为亲属直接的股权变动，一增一减\n",
    "        if str(sheet.iloc[iRow,9])==\"减持\": inverse = \"增持\"\n",
    "        else: inverse = \"减持\"\n",
    "            \n",
    "        line = str(iRow+1) + \"、\"+ sheet.iloc[iRow,1] + \"(\" + sheet.iloc[iRow,0]+ \")\" + str(sheet.iloc[iRow,5]) + \"(\" + sheet.iloc[iRow,6]+ str(sheet.iloc[iRow,7])+\"的\"+str(sheet.iloc[iRow,8]) + \")\" + \"于\" + str(sheet.iloc[iRow,4])[:10] + sheet.iloc[iRow,9] + str(\"%.2f\" %sheet.iloc[iRow,10])+ \"万股\" + \"，\" +\"同时\" +str(sheet.iloc[iRow,7])+  \"(\" + sheet.iloc[iRow,6] + \")\"+ inverse + str(\"%.2f\" %sheet.iloc[iRow,10])+ \"万股\" + \"，变动部分参考市值合计约\"+ str(\"%.2f\" %sheet.iloc[iRow,20])+\"万元\"+\"，变动数量占总股本比例约为\"+str(\"%.2f\" %sheet.iloc[iRow,13])+ \"%\"\n",
    "            \n",
    "        print(line + endpunc)\n",
    "    \n",
    "\n",
    "    \n",
    "    \n",
    "       "
   ]
  },
  {
   "cell_type": "code",
   "execution_count": 13,
   "metadata": {},
   "outputs": [
    {
     "name": "stdout",
     "output_type": "stream",
     "text": [
      "20\n"
     ]
    }
   ],
   "source": []
  },
  {
   "cell_type": "code",
   "execution_count": null,
   "metadata": {},
   "outputs": [],
   "source": []
  },
  {
   "cell_type": "code",
   "execution_count": 5,
   "metadata": {},
   "outputs": [],
   "source": [
    "# #查看器\n",
    "# print(\"请输入行号(1-\"+str(nrows)+\"):\")\n",
    "# iRow=int(input())-1\n",
    "# for iCol in range(ncols):\n",
    "#     print(sheet.iloc[iRow,iCol])"
   ]
  },
  {
   "cell_type": "code",
   "execution_count": null,
   "metadata": {},
   "outputs": [],
   "source": []
  },
  {
   "cell_type": "code",
   "execution_count": null,
   "metadata": {},
   "outputs": [],
   "source": []
  }
 ],
 "metadata": {
  "kernelspec": {
   "display_name": "Python 3",
   "language": "python",
   "name": "python3"
  },
  "language_info": {
   "codemirror_mode": {
    "name": "ipython",
    "version": 3
   },
   "file_extension": ".py",
   "mimetype": "text/x-python",
   "name": "python",
   "nbconvert_exporter": "python",
   "pygments_lexer": "ipython3",
   "version": "3.7.6"
  }
 },
 "nbformat": 4,
 "nbformat_minor": 4
}
