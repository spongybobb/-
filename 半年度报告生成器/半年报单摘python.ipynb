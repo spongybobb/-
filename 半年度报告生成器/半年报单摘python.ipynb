{
 "cells": [
  {
   "cell_type": "code",
   "execution_count": 96,
   "metadata": {},
   "outputs": [],
   "source": [
    "import os\n",
    "import numpy as np\n",
    "import pandas as pd\n",
    "from WindPy import w\n"
   ]
  },
  {
   "cell_type": "code",
   "execution_count": 97,
   "metadata": {},
   "outputs": [
    {
     "data": {
      "text/plain": [
       "True"
      ]
     },
     "execution_count": 97,
     "metadata": {},
     "output_type": "execute_result"
    }
   ],
   "source": [
    "\n",
    "w.start() # 默认命令超时时间为120秒，如需设置超时时间可以加入waitTime参数，例如waitTime=60,即设置命令超时时间为60秒 \n",
    "\n",
    "w.isconnected() # 判断WindPy是否已经登录成功"
   ]
  },
  {
   "cell_type": "code",
   "execution_count": 98,
   "metadata": {},
   "outputs": [],
   "source": [
    "#改金额单位\n",
    "def mc(amount):\n",
    "    value = ''\n",
    "    amount = float(amount)\n",
    "    if abs(amount) >= 10000 and abs(amount) < 100000000:\n",
    "        val = round(amount/10000)\n",
    "        value = str(val) + \"万元\"\n",
    "    elif abs(amount) >= 100000000:\n",
    "        val = round(amount/100000000,1)\n",
    "        value = str(val) + \"亿元\"\n",
    "        \n",
    "    return value \n",
    "\n",
    "def file_name(file_dir):  \n",
    "    L=[]  \n",
    "    for root, dirs, files in os.walk(file_dir): \n",
    "        for file in files: \n",
    "            if os.path.splitext(file)[1] == '.pdf': \n",
    "                L.append(os.path.join(root, file)) \n",
    "    return L\n"
   ]
  },
  {
   "cell_type": "code",
   "execution_count": 99,
   "metadata": {},
   "outputs": [
    {
     "name": "stdout",
     "output_type": "stream",
     "text": [
      "公司代码：002609.SZ\n"
     ]
    }
   ],
   "source": [
    "code = input(\"公司代码：\")"
   ]
  },
  {
   "cell_type": "code",
   "execution_count": null,
   "metadata": {},
   "outputs": [],
   "source": []
  },
  {
   "cell_type": "code",
   "execution_count": 100,
   "metadata": {},
   "outputs": [],
   "source": [
    "#证券简称\n",
    "name = w.wsd(code, \"sec_name\", \"2020-07-27\", \"2020-08-25\", \"Period=Q;\")"
   ]
  },
  {
   "cell_type": "code",
   "execution_count": 101,
   "metadata": {},
   "outputs": [
    {
     "data": {
      "text/plain": [
       ".ErrorCode=0\n",
       ".Codes=[002609.SZ]\n",
       ".Fields=[TOT_OPER_REV]\n",
       ".Times=[20190331,20190630,20190930,20191231,20200331,20200630,20200701]\n",
       ".Data=[[94915156.01,425449065.84,669830670.54,1164191665.14,115553871.1,399153406.1,399153406.1]]"
      ]
     },
     "execution_count": 101,
     "metadata": {},
     "output_type": "execute_result"
    }
   ],
   "source": [
    "#营业总收入 _y\n",
    "# 从wind查找q1数据\n",
    "\n",
    "wsddata1 = w.wsd(code, \"tot_oper_rev\", \"2019-01-01\", \"2020-07-01\", \"rptType=1;Period=Q;Days=Alldays;Fill=Previous\")\n",
    "wsddata1\n"
   ]
  },
  {
   "cell_type": "code",
   "execution_count": 102,
   "metadata": {},
   "outputs": [],
   "source": [
    "#计算q2数据\n",
    "lastq1_y = wsddata1.Data[0][0] #选取2019年q1数据\n",
    "lasth1_y = wsddata1.Data[0][1] #选取2019年h1数据\n",
    "thisq1_y = wsddata1.Data[0][4] #选取2020年q1数据\n",
    "thish1_y = wsddata1.Data[0][5] #选取2020年h1数据\n",
    "lastq2_y = lasth1_y - lastq1_y    #计算2019年q2数据\n",
    "thisq2_y = thish1_y - thisq1_y \n",
    "\n",
    "# Q2计算同比增长/减少\n",
    "growth_year = {}\n",
    "growth_year[0] = (thisq2_y - lastq2_y)/abs(lastq2_y) * 100\n",
    "\n",
    "# H1计算同比增长/减少\n",
    "h1_growth = {}\n",
    "h1_growth[0] = (thish1_y - lasth1_y)/abs(lasth1_y) * 100"
   ]
  },
  {
   "cell_type": "code",
   "execution_count": 103,
   "metadata": {},
   "outputs": [
    {
     "name": "stdout",
     "output_type": "stream",
     "text": [
      "283599535.0\n"
     ]
    }
   ],
   "source": [
    "print(thisq2_y)"
   ]
  },
  {
   "cell_type": "code",
   "execution_count": 104,
   "metadata": {},
   "outputs": [
    {
     "data": {
      "text/plain": [
       ".ErrorCode=0\n",
       ".Codes=[002609.SZ]\n",
       ".Fields=[NP_BELONGTO_PARCOMSH]\n",
       ".Times=[20190331,20190630,20190930,20191231,20200331,20200630,20200701]\n",
       ".Data=[[-16895435.64,51326509.09,70003725.11,142328015.08,-19155183.8,27346624.35,27346624.35]]"
      ]
     },
     "execution_count": 104,
     "metadata": {},
     "output_type": "execute_result"
    }
   ],
   "source": [
    "#归母净利润 _g\n",
    "# 从wind查找q1数据\n",
    "wsddata2 = w.wsd(code, \"np_belongto_parcomsh\", \"2019-01-01\", \"2020-07-01\", \"rptType=1;Period=Q;Days=Alldays;Fill=Previous\")\n",
    "wsddata2\n",
    "\n"
   ]
  },
  {
   "cell_type": "code",
   "execution_count": 105,
   "metadata": {},
   "outputs": [],
   "source": [
    "\n",
    "#计算q2数据\n",
    "lastq1_g = wsddata2.Data[0][0] #选取2019年q1数据\n",
    "lasth1_g = wsddata2.Data[0][1] #选取2019年h1数据\n",
    "thisq1_g = wsddata2.Data[0][4] #选取2020年q1数据\n",
    "thish1_g = wsddata2.Data[0][5] #选取2020年h1数据\n",
    "lastq2_g = lasth1_g - lastq1_g     #计算2019年q2数据\n",
    "thisq2_g = thish1_g - thisq1_g \n",
    "\n",
    "#计算同比增长/减少\n",
    "growth_year[1] = (thisq2_g - lastq2_g)/abs(lastq2_g) * 100\n",
    "\n",
    "# H1计算同比增长/减少\n",
    "\n",
    "h1_growth[1] = (thish1_g - lasth1_g)/abs(lasth1_g) * 100"
   ]
  },
  {
   "cell_type": "code",
   "execution_count": 106,
   "metadata": {},
   "outputs": [
    {
     "data": {
      "text/plain": [
       ".ErrorCode=0\n",
       ".Codes=[002609.SZ]\n",
       ".Fields=[DEDUCTEDPROFIT]\n",
       ".Times=[20190331,20190630,20190930,20191231,20200331,20200630,20200701]\n",
       ".Data=[[-20523042.08,44663614.82,60338685.94,129056231.35,-22290021.19,15934889.32,15934889.32]]"
      ]
     },
     "execution_count": 106,
     "metadata": {},
     "output_type": "execute_result"
    }
   ],
   "source": [
    "#扣非归母净利润 _k\n",
    "# 从wind查找q1数据\n",
    "wsddata3 = w.wsd(code, \"deductedprofit\", \"2019-01-01\", \"2020-07-01\", \"rptType=1;Period=Q;Days=Alldays;Fill=Previous\")\n",
    "wsddata3\n"
   ]
  },
  {
   "cell_type": "code",
   "execution_count": 107,
   "metadata": {},
   "outputs": [],
   "source": [
    "#计算q2数据\n",
    "lastq1_k = wsddata3.Data[0][0] #选取2019年q1数据\n",
    "lasth1_k = wsddata3.Data[0][1] #选取2019年h1数据\n",
    "thisq1_k = wsddata3.Data[0][4] #选取2020年q1数据\n",
    "thish1_k = wsddata3.Data[0][5] #选取2020年h1数据\n",
    "lastq2_k = lasth1_k - lastq1_k     #计算2019年q2数据\n",
    "thisq2_k = thish1_k - thisq1_k \n",
    "\n",
    "#计算同比增长/减少\n",
    "growth_year[2] = (thisq2_k - lastq2_k)/abs(lastq2_k) * 100\n",
    "# H1计算同比增长/减少\n",
    "h1_growth[2] = (thish1_k - lasth1_k)/abs(lasth1_k) * 100"
   ]
  },
  {
   "cell_type": "code",
   "execution_count": 108,
   "metadata": {},
   "outputs": [
    {
     "data": {
      "text/plain": [
       ".ErrorCode=0\n",
       ".Codes=[002609.SZ]\n",
       ".Fields=[OPPROFIT]\n",
       ".Times=[20190331,20190630,20190930,20191231,20200331,20200630,20200701]\n",
       ".Data=[[-16599526.19,57027954.88,77126082.24,151309336.44,-19056410.58,35312268.79,35312268.79]]"
      ]
     },
     "execution_count": 108,
     "metadata": {},
     "output_type": "execute_result"
    }
   ],
   "source": [
    "#营业利润 _lr\n",
    "# 从wind查找q1数据\n",
    "wsddata4 = w.wsd(code, \"opprofit\", \"2019-01-01\", \"2020-07-01\", \"rptType=1;Period=Q;Days=Alldays;Fill=Previous\")\n",
    "wsddata4"
   ]
  },
  {
   "cell_type": "code",
   "execution_count": 109,
   "metadata": {},
   "outputs": [],
   "source": [
    "#计算q2数据\n",
    "lastq1_lr = wsddata4.Data[0][0] #选取2019年q1数据\n",
    "lasth1_lr = wsddata4.Data[0][1] #选取2019年h1数据\n",
    "thisq1_lr = wsddata4.Data[0][4] #选取2020年q1数据\n",
    "thish1_lr = wsddata4.Data[0][5] #选取2020年h1数据\n",
    "lastq2_lr = lasth1_lr - lastq1_lr     #计算2019年q2数据\n",
    "thisq2_lr = thish1_lr - thisq1_lr \n",
    "\n",
    "#计算同比增长/减少\n",
    "growth_year_p = (thisq2_lr - lastq2_lr)/abs(lastq2_lr) * 100\n",
    "# H1计算同比增长/减少\n",
    "h1_growth_p = (thish1_lr - lasth1_lr)/abs(lasth1_lr) * 100"
   ]
  },
  {
   "cell_type": "code",
   "execution_count": 110,
   "metadata": {},
   "outputs": [],
   "source": [
    "# 判断增减\n",
    "updown_q2 = {}\n",
    "for i in [0,1,2]:\n",
    "    if growth_year[i]>=0:\n",
    "        updown_q2[i]=\"增加\"\n",
    "    else:\n",
    "        updown_q2[i]=\"减少\"\n",
    "        growth_year[i]=abs(growth_year[i])\n",
    "\n",
    "if growth_year_p >=0:\n",
    "    updown_p_q2=\"增加\"\n",
    "else:\n",
    "    updown_p_q2=\"减少\"\n",
    "    growth_year_p=abs(growth_year_p)\n",
    "\n",
    "# 判断增减\n",
    "updown_h1 = {}\n",
    "for i in [0,1,2]:\n",
    "    if h1_growth[i]>=0:\n",
    "        updown_h1[i]=\"增加\"\n",
    "    else:\n",
    "        updown_h1[i]=\"减少\"\n",
    "        h1_growth[i]=abs(h1_growth[i])\n",
    "\n",
    "if h1_growth_p >=0:\n",
    "    updown_p_h1=\"增加\"\n",
    "else:\n",
    "    updown_p_h1=\"减少\"\n",
    "    h1_growth_p = abs(h1_growth_p)\n"
   ]
  },
  {
   "cell_type": "code",
   "execution_count": 111,
   "metadata": {},
   "outputs": [],
   "source": [
    "# H1生成\n",
    "line1_h1 = \"营业总收入\" + mc(thish1_y) + \"，同比\" + updown_h1[0] + str(round(h1_growth[0],2)) + '%'+ \"，上年同期为\" + mc(lasth1_y) \n",
    "line2_h1 = \"营业利润\" + mc(thish1_lr)  + \"，同比\" + updown_p_h1 + str(round(h1_growth_p,2)) + '%'+ \"，上年同期为\" + mc(lasth1_lr)\n",
    "line3_h1 = \"归母净利润\" + mc(thish1_g) + \"，同比\" + updown_h1[1] + str(round(h1_growth[1],2)) + '%'+ \"，上年同期为\" + mc(lasth1_g) \n",
    "line4_h1 = \"扣非归母净利润\" + mc(thish1_k)+ \"，同比\" + updown_h1[2] + str(round(h1_growth[2],2)) + '%' + \"，上年同期为\" + mc(lasth1_k) "
   ]
  },
  {
   "cell_type": "code",
   "execution_count": 112,
   "metadata": {},
   "outputs": [],
   "source": [
    "# 二季度生成\n",
    "line1_q2 = \"营业总收入\" + mc(thisq2_y) + \"，同比\" + updown_q2[0] + str(round(growth_year[0],2)) + '%'+ \"，上年同期为\" + mc(lastq2_y) \n",
    "line2_q2 = \"营业利润\" + mc(thisq2_lr)  + \"，同比\" + updown_p_q2 + str(round(growth_year_p,2)) + '%'+ \"，上年同期为\" + mc(lastq2_lr)\n",
    "line3_q2 = \"归母净利润\" + mc(thisq2_g) + \"，同比\" + updown_q2[1] + str(round(growth_year[1],2)) + '%'+ \"，上年同期为\" + mc(lastq2_g) \n",
    "line4_q2 = \"扣非归母净利润\" + mc(thisq2_k)+ \"，同比\" + updown_q2[2] + str(round(growth_year[2],2)) + '%' + \"，上年同期为\" + mc(lastq2_k) "
   ]
  },
  {
   "cell_type": "code",
   "execution_count": null,
   "metadata": {},
   "outputs": [],
   "source": []
  },
  {
   "cell_type": "code",
   "execution_count": null,
   "metadata": {},
   "outputs": [],
   "source": []
  },
  {
   "cell_type": "code",
   "execution_count": 113,
   "metadata": {},
   "outputs": [],
   "source": [
    "exp = w.wsd(code, \"selling_dist_exp,gerl_admin_exp,fin_exp_is,rd_exp,operateexpensetogr,adminexpensetogr,finaexpensetogr\", \"ED-5Q\", \"2020-06-30\", \"rptType=1;Period=Q;Days=Alldays;Fill=Previous\")"
   ]
  },
  {
   "cell_type": "code",
   "execution_count": 114,
   "metadata": {},
   "outputs": [],
   "source": [
    "sellex_h1_last = exp.Data[0][1]\n",
    "sellex_h1_this = exp.Data[0][5]\n",
    "sellex_pct = round(100*(sellex_h1_this-sellex_h1_last)/abs(sellex_h1_last),1)\n",
    "sellex_rate_last = round(exp.Data[4][1],1)\n",
    "sellex_rate_this = round(exp.Data[4][5],1)\n",
    "sellex_rate_pct = round(sellex_rate_this - sellex_rate_last,1)"
   ]
  },
  {
   "cell_type": "code",
   "execution_count": 115,
   "metadata": {},
   "outputs": [],
   "source": [
    "adex_h1_last = exp.Data[1][1]\n",
    "adex_h1_this = exp.Data[1][5]\n",
    "adex_pct = round(100*(adex_h1_this-adex_h1_last)/abs(adex_h1_last),1)\n",
    "adex_rate_last = round(100*(adex_h1_last/lasth1_y),1)\n",
    "adex_rate_this = round(100*(adex_h1_this/thish1_y),1)\n",
    "adex_rate_pct = round(adex_rate_this - adex_rate_last,1)"
   ]
  },
  {
   "cell_type": "code",
   "execution_count": 116,
   "metadata": {},
   "outputs": [
    {
     "data": {
      "text/plain": [
       "[38.3636, 18.7069, 18.1565, 17.0282, 35.7883, 20.8449]"
      ]
     },
     "execution_count": 116,
     "metadata": {},
     "output_type": "execute_result"
    }
   ],
   "source": [
    "exp.Data[5]"
   ]
  },
  {
   "cell_type": "code",
   "execution_count": 117,
   "metadata": {},
   "outputs": [],
   "source": [
    "finex_h1_last = exp.Data[2][1]\n",
    "finex_h1_this = exp.Data[2][5]\n",
    "finex_pct = round(100*(finex_h1_this-finex_h1_last)/abs(finex_h1_last),1)\n",
    "finex_rate_last = round(100*(finex_h1_last/lasth1_y),1)\n",
    "finex_rate_this = round(100*(finex_h1_this/thish1_y),1)\n",
    "finex_rate_pct = round(finex_rate_this - finex_rate_last,1)"
   ]
  },
  {
   "cell_type": "code",
   "execution_count": 118,
   "metadata": {},
   "outputs": [],
   "source": [
    "rdex_h1_last = exp.Data[3][1]\n",
    "rdex_h1_this = exp.Data[3][5]\n",
    "rdex_pct = round(100*(rdex_h1_this-rdex_h1_last)/abs(rdex_h1_last),1)\n",
    "rdex_rate_last = round(100*(rdex_h1_last/lasth1_y),1)\n",
    "rdex_rate_this = round(100*(rdex_h1_this/thish1_y),1)\n",
    "rdex_rate_pct = round(rdex_rate_this - rdex_rate_last,1)"
   ]
  },
  {
   "cell_type": "code",
   "execution_count": 119,
   "metadata": {},
   "outputs": [],
   "source": [
    "# 判断增减\n",
    "updown_ex={}\n",
    "numm = 0\n",
    "for i in [sellex_pct,adex_pct,finex_pct,rdex_pct]:    \n",
    "    if i > 0:\n",
    "        updown_ex[numm] = '增加'\n",
    "    elif i < 0:\n",
    "        updown_ex[numm] = '减少'\n",
    "    numm = numm+1\n",
    "\n",
    "\n",
    "\n",
    "# 计算差值\n",
    "# sellex_rate_diff = round(sellex_rate_this - sellex_rate_last,2)\n",
    "# adex_rate_diff = round(adex_rate_this - adex_rate_last,2)\n",
    "# rdex_rate_diff = round(rdex_rate_this - rdex_rate_last,2)\n",
    "# finex_rate_diff = round(finex_rate_this - finex_rate_last,2)\n",
    "\n",
    "# 判断较去年同期增减\n",
    "updown_rate={}\n",
    "nu = 0\n",
    "for i in [sellex_rate_pct,adex_rate_pct,finex_rate_pct,rdex_rate_pct]:    \n",
    "    if i > 0:\n",
    "        updown_rate[nu] = '增加'\n",
    "    elif i < 0:\n",
    "        updown_rate[nu] = '减少'\n",
    "    nu = nu+1\n"
   ]
  },
  {
   "cell_type": "code",
   "execution_count": 120,
   "metadata": {
    "scrolled": true
   },
   "outputs": [],
   "source": [
    "sellex = \"销售费用\" + mc(sellex_h1_this) + \"，同比\"+updown_ex[0]+str(abs(sellex_pct))+'%'+\"，去年同期为\"+mc(sellex_h1_last)+\"；销售费用率\"+str(sellex_rate_this)+\"%，同比\"+updown_rate[0]+str(abs(sellex_rate_pct))+\"%，去年同期为\"+str(sellex_rate_last)+'%'\n",
    "adex = \"管理费用\" + mc(adex_h1_this) + \"，同比\"+updown_ex[1]+str(abs(adex_pct))+'%'+\"，去年同期为\"+mc(adex_h1_last)+\"；管理费用率\"+str(adex_rate_this)+\"%，同比\"+updown_rate[1]+str(abs(adex_rate_pct))+\"%，去年同期为\"+str(adex_rate_last)+'%'\n",
    "finex = \"财务费用\" + mc(finex_h1_this) + \"，同比\"+updown_ex[2]+str(abs(finex_pct))+'%'+\"，去年同期为\"+mc(finex_h1_last)+\"；财务费用率\"+str(finex_rate_this)+\"%，同比\"+updown_rate[2]+str(abs(finex_rate_pct))+\"%，去年同期为\"+str(finex_rate_last)+'%'\n",
    "rdex = \"研发费用\" + mc(rdex_h1_this) + \"，同比\"+updown_ex[3]+str(abs(rdex_pct))+'%'+\"，去年同期为\"+mc(rdex_h1_last)+\"；研发费用率\"+str(rdex_rate_this)+\"%，同比\"+updown_rate[3]+str(abs(rdex_rate_pct))+\"%，去年同期为\"+str(rdex_rate_last)+'%'\n"
   ]
  },
  {
   "cell_type": "code",
   "execution_count": 121,
   "metadata": {},
   "outputs": [],
   "source": [
    "# 现金流\n",
    "\n",
    "cash = w.wsd(code, \"net_cash_flows_oper_act,net_cash_flows_inv_act,net_cash_flows_fnc_act\", \"ED-5Q\", \"2020-06-30\", \"rptType=1;Period=Q;Days=Alldays;Fill=Previous\")\n",
    "opcash = cash"
   ]
  },
  {
   "cell_type": "code",
   "execution_count": 122,
   "metadata": {},
   "outputs": [],
   "source": [
    "opcash_this = cash.Data[0][5]\n",
    "opcash_last = cash.Data[0][1]\n",
    "invcash_this = cash.Data[1][5]\n",
    "invcash_last = cash.Data[1][1]\n",
    "fincash_this = cash.Data[2][5]\n",
    "fincash_last = cash.Data[2][1]"
   ]
  },
  {
   "cell_type": "code",
   "execution_count": null,
   "metadata": {},
   "outputs": [],
   "source": []
  },
  {
   "cell_type": "code",
   "execution_count": 124,
   "metadata": {},
   "outputs": [],
   "source": [
    "# 计算同比增减\n",
    "\n",
    "opcash_var = round(100*(opcash_this - opcash_last)/opcash_last,2)\n",
    "invcash_var = round(100*(invcash_this - invcash_last)/invcash_last,2)\n",
    "fincash_var = round(100*(fincash_this - fincash_last)/fincash_last,2)\n",
    "\n",
    "\n",
    "\n",
    "# 判断增减\n",
    "\n",
    "liu_this = {}\n",
    "liu_last = {}\n",
    "n = 0\n",
    "m = 0\n",
    "for i in [opcash_this,invcash_this,fincash_this]:\n",
    "    if i < 0:\n",
    "        liu_this[n] = \"流出\"\n",
    "    else:\n",
    "        liu_this[n] = \"流入\"\n",
    "    n = n + 1\n",
    "\n",
    "for i in [opcash_last,invcash_last,fincash_last]:\n",
    "    if i < 0:\n",
    "        liu_last[m] = \"流出\"\n",
    "    else:\n",
    "        liu_last[m] = \"流入\"\n",
    "    m = m + 1\n",
    "    \n",
    "    \n",
    "updown_cash={}\n",
    "\n",
    "if opcash_this < 0 and opcash_last < 0 and abs(opcash_this) < abs(opcash_last) :\n",
    "    updown_cash[0] = '净'+ liu_last[0]+'同比减少'\n",
    "elif opcash_this < 0 and opcash_last < 0 and abs(opcash_this) > abs(opcash_last):\n",
    "    updown_cash[0] = '净'+ liu_last[0]+'同比增加'\n",
    "elif opcash_this < 0 and opcash_last > 0:\n",
    "    updown_cash[0] = '净流入同比减少'\n",
    "elif opcash_this > 0 and opcash_last < 0:\n",
    "    updown_cash[0] = '净流出同比减少'\n",
    "elif opcash_this > 0 and opcash_last > 0 and abs(opcash_this) < abs(opcash_last) :\n",
    "    updown_cash[0] = '净流入同比减少'\n",
    "elif opcash_this > 0 and opcash_last > 0 and abs(opcash_this) > abs(opcash_last) :\n",
    "    updown_cash[0] = '净流入同比增加'\n",
    "\n",
    "    \n",
    "if invcash_this < 0 and invcash_last < 0 and abs(invcash_this) < abs(invcash_last) :\n",
    "    updown_cash[1] = '净流出同比减少'\n",
    "elif invcash_this < 0 and invcash_last < 0 and abs(invcash_this) > abs(invcash_last):\n",
    "    updown_cash[1] = '净流出同比增加'\n",
    "elif invcash_this < 0 and invcash_last > 0:\n",
    "    updown_cash[1] = '净流入同比减少'\n",
    "elif invcash_this > 0 and invcash_last < 0:\n",
    "    updown_cash[1] = '净流出同比减少'\n",
    "elif invcash_this > 0 and invcash_last > 0 and abs(invcash_this) < abs(invcash_last) :\n",
    "    updown_cash[1] = '净流入同比减少'\n",
    "elif invcash_this > 0 and invcash_last > 0 and abs(invcash_this) > abs(invcash_last) :\n",
    "    updown_cash[1] = '净流入同比增加'\n",
    "\n",
    "    \n",
    "if fincash_this < 0 and fincash_last < 0 and abs(fincash_this) < abs(fincash_last) :\n",
    "    updown_cash[2] = '净流出同比减少'\n",
    "elif fincash_this < 0 and fincash_last < 0 and abs(fincash_this) > abs(fincash_last):\n",
    "    updown_cash[2] = '净流出同比增加'\n",
    "elif fincash_this < 0 and fincash_last > 0:\n",
    "    updown_cash[2] = '净流入同比减少'\n",
    "elif fincash_this > 0 and fincash_last < 0:\n",
    "    updown_cash[2] = '净流出同比减少'\n",
    "elif fincash_this > 0 and fincash_last > 0 and abs(fincash_this) < abs(fincash_last) :\n",
    "    updown_cash[2] = '净流入同比减少'\n",
    "elif fincash_this > 0 and fincash_last > 0 and abs(fincash_this) > abs(fincash_last) :\n",
    "    updown_cash[2] = '净流入同比增加'\n",
    "\n",
    "\n"
   ]
  },
  {
   "cell_type": "code",
   "execution_count": null,
   "metadata": {},
   "outputs": [],
   "source": [
    "fincash_last"
   ]
  },
  {
   "cell_type": "code",
   "execution_count": 125,
   "metadata": {},
   "outputs": [],
   "source": [
    "cashline1 =  \"经营活动现金净\" +liu_this[0]+ mc(abs(opcash_this)) + '，' + updown_cash[0] + str(abs(opcash_var)) + '%' + \"，去年同期净\" + liu_last[0] + mc(abs(opcash_last)) + '；'\n",
    "cashline2 =  \"投资活动现金净\" +liu_this[1]+ mc(abs(invcash_this)) + '，' + updown_cash[1] + str(abs(invcash_var)) + '%' + \"，去年同期净\" + liu_last[1] + mc(abs(invcash_last)) + '；'\n",
    "cashline3 =  \"筹资活动现金净\" +liu_this[2]+ mc(abs(fincash_this)) + '，' + updown_cash[2] + str(abs(fincash_var)) + '%' + \"，去年同期净\" + liu_last[2] + mc(abs(fincash_last)) + '；'\n"
   ]
  },
  {
   "cell_type": "code",
   "execution_count": 126,
   "metadata": {},
   "outputs": [
    {
     "name": "stdout",
     "output_type": "stream",
     "text": [
      "【捷顺科技（002609）】\n",
      "【2020年半年度报告】\n",
      "20H1:\n",
      "营业总收入4.0亿元，同比减少6.18%，上年同期为4.3亿元;\n",
      "营业利润3531万元，同比减少38.08%，上年同期为5703万元;\n",
      "归母净利润2735万元，同比减少46.72%，上年同期为5133万元;\n",
      "扣非归母净利润1593万元，同比减少64.32%，上年同期为4466万元。\n",
      "20Q2:\n",
      "营业总收入2.8亿元，同比减少14.2%，上年同期为3.3亿元;\n",
      "营业利润5437万元，同比减少26.16%，上年同期为7363万元;\n",
      "归母净利润4650万元，同比减少31.84%，上年同期为6822万元;\n",
      "扣非归母净利润3822万元，同比减少41.36%，上年同期为6519万元。\n",
      "\n",
      "\n",
      "费用：\n",
      "销售费用9119万元，同比增加19.4%，去年同期为7635万元；销售费用率22.8%，同比增加4.9%，去年同期为17.9%;\n",
      "管理费用4388万元，同比减少17.0%，去年同期为5287万元；管理费用率11.0%，同比减少1.4%，去年同期为12.4%;\n",
      "财务费用-1159万元，同比减少32.2%，去年同期为-876万元；财务费用率-2.9%，同比减少0.8%，去年同期为-2.1%;\n",
      "研发费用3933万元，同比增加47.2%，去年同期为2672万元；研发费用率9.9%，同比增加3.6%，去年同期为6.3%。\n",
      "\n",
      "\n",
      "现金流：\n",
      "经营活动现金净流出1.0亿元，净流出同比减少29.61%，去年同期净流出1.4亿元；\n",
      "投资活动现金净流出7853万元，净流出同比增加59.05%，去年同期净流出4938万元；\n",
      "筹资活动现金净流入1.4亿元，净流入同比增加172.52%，去年同期净流入5052万元；\n",
      "\n",
      "\n"
     ]
    }
   ],
   "source": [
    "# 财务摘要输出\n",
    "print('【'+name.Data[0][0] + '（' +str(code[:6])+'）'+'】')\n",
    "print(\"【2020年半年度报告】\")\n",
    "print(\"20H1:\")\n",
    "print(line1_h1 + ';')\n",
    "print(line2_h1 + ';')\n",
    "print(line3_h1 + ';')\n",
    "print(line4_h1 + '。')\n",
    "print(\"20Q2:\")\n",
    "print(line1_q2 + ';')\n",
    "print(line2_q2 + ';')\n",
    "print(line3_q2 + ';')\n",
    "print(line4_q2 + '。')\n",
    "print('\\n')\n",
    "print('费用：')\n",
    "print(sellex+';')\n",
    "print(adex+';')\n",
    "print(finex+';')\n",
    "print(rdex+'。')\n",
    "print('\\n')\n",
    "#现金输出\n",
    "print('现金流：')\n",
    "print(cashline1)\n",
    "print(cashline2)\n",
    "print(cashline3)\n",
    "print('\\n')"
   ]
  },
  {
   "cell_type": "code",
   "execution_count": null,
   "metadata": {},
   "outputs": [],
   "source": []
  }
 ],
 "metadata": {
  "kernelspec": {
   "display_name": "Python 3",
   "language": "python",
   "name": "python3"
  },
  "language_info": {
   "codemirror_mode": {
    "name": "ipython",
    "version": 3
   },
   "file_extension": ".py",
   "mimetype": "text/x-python",
   "name": "python",
   "nbconvert_exporter": "python",
   "pygments_lexer": "ipython3",
   "version": "3.7.6"
  }
 },
 "nbformat": 4,
 "nbformat_minor": 4
}
