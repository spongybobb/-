{
 "cells": [
  {
   "cell_type": "code",
   "execution_count": 1,
   "metadata": {},
   "outputs": [],
   "source": [
    "import pdfplumber\n",
    "import numpy as np\n",
    "import pandas as pd\n",
    "from WindPy import w\n"
   ]
  },
  {
   "cell_type": "code",
   "execution_count": 2,
   "metadata": {},
   "outputs": [
    {
     "name": "stdout",
     "output_type": "stream",
     "text": [
      "Welcome to use Wind Quant API for Python (WindPy)!\n",
      "\n",
      "COPYRIGHT (C) 2017 WIND INFORMATION CO., LTD. ALL RIGHTS RESERVED.\n",
      "IN NO CIRCUMSTANCE SHALL WIND BE RESPONSIBLE FOR ANY DAMAGES OR LOSSES CAUSED BY USING WIND QUANT API FOR Python.\n"
     ]
    },
    {
     "data": {
      "text/plain": [
       "True"
      ]
     },
     "execution_count": 2,
     "metadata": {},
     "output_type": "execute_result"
    }
   ],
   "source": [
    "\n",
    "w.start() # 默认命令超时时间为120秒，如需设置超时时间可以加入waitTime参数，例如waitTime=60,即设置命令超时时间为60秒 \n",
    "\n",
    "w.isconnected() # 判断WindPy是否已经登录成功\n"
   ]
  },
  {
   "cell_type": "code",
   "execution_count": 3,
   "metadata": {},
   "outputs": [],
   "source": [
    "#改金额单位\n",
    "def mc(amount):\n",
    "    value = ''\n",
    "    amount = float(amount)\n",
    "    if abs(amount) >= 10000 and abs(amount) < 100000000:\n",
    "        val = round(amount/10000,2)\n",
    "        value = str(val) + \"万元\"\n",
    "    elif abs(amount) >= 100000000:\n",
    "        val = round(amount/100000000,2)\n",
    "        value = str(val) + \"亿元\"\n",
    "        \n",
    "    return value "
   ]
  },
  {
   "cell_type": "code",
   "execution_count": 4,
   "metadata": {},
   "outputs": [],
   "source": [
    "# tables = tabula.read_pdf(\"20190821-002368.SZ-太极股份：2019年半年度报告.pdf\",pages = '6,7') #读取pdf\n",
    "# code = '002368.SZ'\n",
    "\n",
    "# with pdfplumber.open(\"20190821-300085.SZ-银之杰：2019年半年度报告.pdf\") as pdf:\n",
    "#     # 获取第一页\n",
    "#     page = pdf.pages[5]\n",
    "\n",
    "\n",
    "\n",
    "#     # 解析表格\n",
    "#     tables = page.extract_tables()\n",
    "# #     for table in tables:\n",
    "# #         print(table)\n",
    "# #         # df = pd.DataFrame(table[1:], columns=table[0])\n",
    "# #         for row in table:\n",
    "# #             for cell in row:\n",
    "# #                 print(cell, end=\"\\t|\")\n",
    "# #             print()"
   ]
  },
  {
   "cell_type": "code",
   "execution_count": 5,
   "metadata": {},
   "outputs": [
    {
     "name": "stdout",
     "output_type": "stream",
     "text": [
      "股票代码：300085.SZ\n"
     ]
    }
   ],
   "source": [
    "pdf = pdfplumber.open(\"20190821-300085.SZ-银之杰：2019年半年度报告.pdf\")\n",
    "\n",
    "code = input(\"股票代码：\")\n"
   ]
  },
  {
   "cell_type": "code",
   "execution_count": null,
   "metadata": {},
   "outputs": [],
   "source": []
  },
  {
   "cell_type": "code",
   "execution_count": 6,
   "metadata": {},
   "outputs": [],
   "source": [
    "# 手动输入报表摘要所在页码\n",
    "# page_num = input(\"page number:\")\n",
    "# page_num = int(page_num)\n"
   ]
  },
  {
   "cell_type": "code",
   "execution_count": 7,
   "metadata": {},
   "outputs": [],
   "source": [
    "# 自动查找页码\n",
    "counter = 0\n",
    "for i in range(2,10):\n",
    "    p0 = pdf.pages[i]\n",
    "    pp = p0.extract_text(x_tolerance=3, y_tolerance=3)\n",
    "    if pp.find(\"主要会计数据\")== -1:\n",
    "        counter = counter + 1\n",
    "    elif pp.find(\"主要会计数据\")> -1:\n",
    "        page_num = i\n",
    "        break\n",
    "        \n",
    "        "
   ]
  },
  {
   "cell_type": "code",
   "execution_count": 8,
   "metadata": {},
   "outputs": [
    {
     "data": {
      "text/plain": [
       "7"
      ]
     },
     "execution_count": 8,
     "metadata": {},
     "output_type": "execute_result"
    }
   ],
   "source": [
    "page_num"
   ]
  },
  {
   "cell_type": "code",
   "execution_count": null,
   "metadata": {},
   "outputs": [],
   "source": []
  },
  {
   "cell_type": "code",
   "execution_count": 9,
   "metadata": {},
   "outputs": [],
   "source": [
    "p0 = pdf.pages[page_num]\n",
    "table = p0.extract_table()\n"
   ]
  },
  {
   "cell_type": "code",
   "execution_count": 10,
   "metadata": {},
   "outputs": [
    {
     "data": {
      "text/plain": [
       "[['', '本报告期', '上年同期', '本报告期比上年同期增减'],\n",
       " ['营业总收入（元）', '539,796,493.99', '637,297,654.13', '-15.30%'],\n",
       " ['归属于上市公司股东的净利润（元）', '-22,623,049.65', '1,281,561.04', '-1,865.27%'],\n",
       " ['归属于上市公司股东的扣除非经常性损', '', '', ''],\n",
       " [None, '-34,265,268.05', '-2,207,197.30', '-1,452.43%'],\n",
       " ['益后的净利润（元）', None, None, None],\n",
       " [None, '', '', ''],\n",
       " ['经营活动产生的现金流量净额（元）', '-146,789,281.46', '-91,801,403.24', '-59.90%'],\n",
       " ['基本每股收益（元/股）', '-0.0320', '0.0018', '-1,877.78%'],\n",
       " ['稀释每股收益（元/股）', '-0.0320', '0.0018', '-1,877.78%'],\n",
       " ['加权平均净资产收益率', '-1.67%', '0.10%', '-1.77百分点'],\n",
       " ['', '', '', '本报告期末比上年度末增'],\n",
       " ['', '本报告期末', '上年度末', None],\n",
       " [None, None, None, '减'],\n",
       " ['', '', '', None],\n",
       " ['总资产（元）', '2,129,339,158.27', '2,154,554,005.56', '-1.17%'],\n",
       " ['归属于上市公司股东的净资产（元）', '1,330,550,759.67', '1,351,266,299.89', '-1.53%']]"
      ]
     },
     "execution_count": 10,
     "metadata": {},
     "output_type": "execute_result"
    }
   ],
   "source": [
    "table"
   ]
  },
  {
   "cell_type": "code",
   "execution_count": 11,
   "metadata": {},
   "outputs": [
    {
     "data": {
      "text/html": [
       "<div>\n",
       "<style scoped>\n",
       "    .dataframe tbody tr th:only-of-type {\n",
       "        vertical-align: middle;\n",
       "    }\n",
       "\n",
       "    .dataframe tbody tr th {\n",
       "        vertical-align: top;\n",
       "    }\n",
       "\n",
       "    .dataframe thead th {\n",
       "        text-align: right;\n",
       "    }\n",
       "</style>\n",
       "<table border=\"1\" class=\"dataframe\">\n",
       "  <thead>\n",
       "    <tr style=\"text-align: right;\">\n",
       "      <th></th>\n",
       "      <th></th>\n",
       "      <th>本报告期</th>\n",
       "      <th>上年同期</th>\n",
       "      <th>本报告期比上年同期增减</th>\n",
       "    </tr>\n",
       "  </thead>\n",
       "  <tbody>\n",
       "    <tr>\n",
       "      <th>0</th>\n",
       "      <td>营业总收入（元）</td>\n",
       "      <td>539,796,493.99</td>\n",
       "      <td>637,297,654.13</td>\n",
       "      <td>-15.30%</td>\n",
       "    </tr>\n",
       "    <tr>\n",
       "      <th>1</th>\n",
       "      <td>归属于上市公司股东的净利润（元）</td>\n",
       "      <td>-22,623,049.65</td>\n",
       "      <td>1,281,561.04</td>\n",
       "      <td>-1,865.27%</td>\n",
       "    </tr>\n",
       "    <tr>\n",
       "      <th>2</th>\n",
       "      <td>归属于上市公司股东的扣除非经常性损</td>\n",
       "      <td></td>\n",
       "      <td></td>\n",
       "      <td></td>\n",
       "    </tr>\n",
       "    <tr>\n",
       "      <th>3</th>\n",
       "      <td>None</td>\n",
       "      <td>-34,265,268.05</td>\n",
       "      <td>-2,207,197.30</td>\n",
       "      <td>-1,452.43%</td>\n",
       "    </tr>\n",
       "    <tr>\n",
       "      <th>4</th>\n",
       "      <td>益后的净利润（元）</td>\n",
       "      <td>None</td>\n",
       "      <td>None</td>\n",
       "      <td>None</td>\n",
       "    </tr>\n",
       "  </tbody>\n",
       "</table>\n",
       "</div>"
      ],
      "text/plain": [
       "                                本报告期            上年同期 本报告期比上年同期增减\n",
       "0           营业总收入（元）  539,796,493.99  637,297,654.13     -15.30%\n",
       "1   归属于上市公司股东的净利润（元）  -22,623,049.65    1,281,561.04  -1,865.27%\n",
       "2  归属于上市公司股东的扣除非经常性损                                            \n",
       "3               None  -34,265,268.05   -2,207,197.30  -1,452.43%\n",
       "4          益后的净利润（元）            None            None        None"
      ]
     },
     "execution_count": 11,
     "metadata": {},
     "output_type": "execute_result"
    }
   ],
   "source": [
    "\n",
    "df = pd.DataFrame(table[1:6], columns=table[0])\n",
    "# for column in [\"Effective\", \"Received\"]:\n",
    "#     df[column] = df[column].str.replace(\" \", \"\")\n",
    "df"
   ]
  },
  {
   "cell_type": "code",
   "execution_count": null,
   "metadata": {},
   "outputs": [],
   "source": []
  },
  {
   "cell_type": "code",
   "execution_count": 16,
   "metadata": {},
   "outputs": [],
   "source": [
    "data = df.values\n",
    "percent = {}\n",
    "\n",
    "#去除逗号\n",
    "for i in [0,1,3]:\n",
    "    for j in [1,2,3]:\n",
    "        percent[i] = data[i,3]\n",
    "        percent[i] = percent[i].replace('%','')\n",
    "        data[i,j] = data[i,j].replace(',','')\n",
    "\n"
   ]
  },
  {
   "cell_type": "code",
   "execution_count": 17,
   "metadata": {},
   "outputs": [],
   "source": [
    "# 修改数据类型\n",
    "percent[0] = float(percent[0])\n",
    "percent[1] = float(percent[1])\n",
    "percent[3] = float(percent[3])\n",
    "\n",
    "# 判断增减\n",
    "updown = {}\n",
    "for i in [0,1,3]:\n",
    "    if percent[i]>=0:\n",
    "        updown[i]=\"增加\"\n",
    "    else:\n",
    "        updown[i]=\"减少\"\n",
    "        percent[i]=abs(percent[i])\n",
    "\n"
   ]
  },
  {
   "cell_type": "code",
   "execution_count": 20,
   "metadata": {},
   "outputs": [
    {
     "data": {
      "text/plain": [
       "1452.43"
      ]
     },
     "execution_count": 20,
     "metadata": {},
     "output_type": "execute_result"
    }
   ],
   "source": [
    "percent[3]"
   ]
  },
  {
   "cell_type": "code",
   "execution_count": 21,
   "metadata": {},
   "outputs": [],
   "source": [
    "Revenue = {'obj':data[0,0],'this':data[0,1],'last':data[0,2],'varpct':percent[0]} #把数据写入dict\n",
    "\n",
    "NetProfit_sh = {'obj':data[1,0],'this':data[1,1],'last':data[1,2],'varpct':percent[1]} #把数据写入dict\n",
    "\n",
    "NetProfit_sh_loss = {'obj':data[2,0],'this':data[3,1],'last':data[3,2],'varpct':percent[3]} #把数据写入dict\n"
   ]
  },
  {
   "cell_type": "code",
   "execution_count": null,
   "metadata": {},
   "outputs": [],
   "source": []
  },
  {
   "cell_type": "code",
   "execution_count": 22,
   "metadata": {},
   "outputs": [],
   "source": [
    "line1_h1 = \"20H1营业总收入\" + mc(Revenue['this']) + \",上年同期为\" + mc(Revenue['last']) + \",同比\" + updown[0] + str(percent[0]) + '%'\n",
    "line2_h1 = \"20H1归母净利润\" + mc(NetProfit_sh['this']) + \",上年同期为\" + mc(NetProfit_sh['last']) + \",同比\" + updown[1] + str(percent[1]) + '%'\n",
    "line3_h1 = \"20H1扣非归母净利润\" + mc(NetProfit_sh_loss['this']) + \",上年同期为\" + mc(NetProfit_sh_loss['last']) + \",同比\" + updown[3] + str(percent[3]) + '%'"
   ]
  },
  {
   "cell_type": "code",
   "execution_count": 23,
   "metadata": {},
   "outputs": [
    {
     "name": "stdout",
     "output_type": "stream",
     "text": [
      "20H1营业总收入5.4亿元,上年同期为6.37亿元,同比减少15.3%\n",
      "20H1归母净利润-2262.3万元,上年同期为128.16万元,同比减少1865.27%\n",
      "20H1扣非归母净利润-3426.53万元,上年同期为-220.72万元,同比减少1452.43%\n"
     ]
    }
   ],
   "source": [
    "print(line1_h1)\n",
    "print(line2_h1)\n",
    "print(line3_h1)"
   ]
  },
  {
   "cell_type": "code",
   "execution_count": null,
   "metadata": {},
   "outputs": [],
   "source": [
    "###### 以下是wind部分 #######"
   ]
  },
  {
   "cell_type": "code",
   "execution_count": 24,
   "metadata": {},
   "outputs": [
    {
     "data": {
      "text/plain": [
       ".ErrorCode=0\n",
       ".Codes=[300085.SZ]\n",
       ".Fields=[TOT_OPER_REV]\n",
       ".Times=[20190331,20190630,20190930,20191231,20200331]\n",
       ".Data=[[255091348.19,539796493.99,843768075.24,1181006553.61,256253083.08]]"
      ]
     },
     "execution_count": 24,
     "metadata": {},
     "output_type": "execute_result"
    }
   ],
   "source": [
    "#营业总收入 _y\n",
    "# 从wind查找q1数据\n",
    "\n",
    "wsddata1 = w.wsd(code, \"tot_oper_rev\", \"2019-01-01\", \"2020-03-31\", \"rptType=1;Period=Q;Days=Alldays;Fill=Previous\")\n",
    "wsddata1\n"
   ]
  },
  {
   "cell_type": "code",
   "execution_count": 25,
   "metadata": {},
   "outputs": [],
   "source": [
    "#计算q2数据\n",
    "lastq1_y = wsddata1.Data[0][0] #选取2019年q1数据\n",
    "lasth1_y = wsddata1.Data[0][1] #选取2019年h1数据\n",
    "thisq1_y = wsddata1.Data[0][4] #选取2020年q1数据\n",
    "thish1_y = float(Revenue['this'])\n",
    "lastq2_y = lasth1_y - lastq1_y    #计算2019年q2数据\n",
    "thisq2_y = thish1_y - thisq1_y \n",
    "\n",
    "#计算同比增长/减少\n",
    "growth_year = {}\n",
    "growth_year[0] = (thisq2_y - lastq2_y)/abs(lastq2_y) * 100"
   ]
  },
  {
   "cell_type": "code",
   "execution_count": 26,
   "metadata": {},
   "outputs": [
    {
     "data": {
      "text/plain": [
       ".ErrorCode=0\n",
       ".Codes=[300085.SZ]\n",
       ".Fields=[NP_BELONGTO_PARCOMSH]\n",
       ".Times=[20190331,20190630,20190930,20191231,20200331]\n",
       ".Data=[[-26021350.11,-22623049.65,1150928.1,4917894.1,-15271142.68]]"
      ]
     },
     "execution_count": 26,
     "metadata": {},
     "output_type": "execute_result"
    }
   ],
   "source": [
    "#归母净利润 _g\n",
    "# 从wind查找q1数据\n",
    "wsddata2 = w.wsd(code, \"np_belongto_parcomsh\", \"2019-01-01\", \"2020-03-31\", \"rptType=1;Period=Q;Days=Alldays;Fill=Previous\")\n",
    "wsddata2\n",
    "\n"
   ]
  },
  {
   "cell_type": "code",
   "execution_count": 27,
   "metadata": {},
   "outputs": [],
   "source": [
    "\n",
    "#计算q2数据\n",
    "lastq1_g = wsddata2.Data[0][0] #选取2019年q1数据\n",
    "lasth1_g = wsddata2.Data[0][1] #选取2019年h1数据\n",
    "thisq1_g = wsddata2.Data[0][4] #选取2020年q1数据\n",
    "thish1_g = float(NetProfit_sh['this'])\n",
    "lastq2_g = lasth1_g - lastq1_g     #计算2019年q2数据\n",
    "thisq2_g = thish1_g - thisq1_g \n",
    "\n",
    "#计算同比增长/减少\n",
    "growth_year[1] = (thisq2_g - lastq2_g)/abs(lastq2_g) * 100"
   ]
  },
  {
   "cell_type": "code",
   "execution_count": 28,
   "metadata": {},
   "outputs": [
    {
     "data": {
      "text/plain": [
       ".ErrorCode=0\n",
       ".Codes=[300085.SZ]\n",
       ".Fields=[DEDUCTEDPROFIT]\n",
       ".Times=[20190331,20190630,20190930,20191231,20200331]\n",
       ".Data=[[-26855078.55,-34265268.05,-18701231.97,-18185297.38,-18455344.69]]"
      ]
     },
     "execution_count": 28,
     "metadata": {},
     "output_type": "execute_result"
    }
   ],
   "source": [
    "#扣非归母净利润 _k\n",
    "# 从wind查找q1数据\n",
    "wsddata3 = w.wsd(code, \"deductedprofit\", \"2019-01-01\", \"2020-03-31\", \"rptType=1;Period=Q;Days=Alldays;Fill=Previous\")\n",
    "wsddata3\n"
   ]
  },
  {
   "cell_type": "code",
   "execution_count": 29,
   "metadata": {},
   "outputs": [],
   "source": [
    "#计算q2数据\n",
    "lastq1_k = wsddata3.Data[0][0] #选取2019年q1数据\n",
    "lasth1_k = wsddata3.Data[0][1] #选取2019年h1数据\n",
    "thisq1_k = wsddata3.Data[0][4] #选取2020年q1数据\n",
    "thish1_k = float(NetProfit_sh_loss['this'])\n",
    "lastq2_k = lasth1_k - lastq1_k     #计算2019年q2数据\n",
    "thisq2_k = thish1_k - thisq1_k \n",
    "\n",
    "#计算同比增长/减少\n",
    "growth_year[2] = (thisq2_k - lastq2_k)/abs(lastq2_k) * 100"
   ]
  },
  {
   "cell_type": "code",
   "execution_count": 30,
   "metadata": {},
   "outputs": [],
   "source": [
    "# 判断增减\n",
    "updown_q2 = {}\n",
    "for i in [0,1,2]:\n",
    "    if growth_year[i]>=0:\n",
    "        updown_q2[i]=\"增加\"\n",
    "    else:\n",
    "        updown_q2[i]=\"减少\"\n",
    "        growth_year[i]=abs(growth_year[i])\n"
   ]
  },
  {
   "cell_type": "code",
   "execution_count": 34,
   "metadata": {},
   "outputs": [],
   "source": [
    "line1_q2 = \"20Q2营业总收入\" + mc(thisq2_y) + \",上年同期为\" + mc(lastq2_y) + \",同比\" + updown_q2[0] + str(round(growth_year[0],2)) + '%'\n",
    "line2_q2 = \"20Q2归母净利润\" + mc(thisq2_g) + \",上年同期为\" + mc(lastq2_g) + \",同比\" + updown_q2[1] + str(round(growth_year[1],2)) + '%'\n",
    "line3_q2 = \"20Q2扣非归母净利润\" + mc(thisq2_k) + \",上年同期为\" + mc(lastq2_k) + \",同比\" + updown_q2[2] + str(round(growth_year[2],2)) + '%'"
   ]
  },
  {
   "cell_type": "code",
   "execution_count": 35,
   "metadata": {},
   "outputs": [
    {
     "name": "stdout",
     "output_type": "stream",
     "text": [
      "20Q2营业总收入2.84亿元,上年同期为2.85亿元,同比减少0.41%\n",
      "20Q2归母净利润-735.19万元,上年同期为339.83万元,同比减少316.34%\n",
      "20Q2扣非归母净利润-1580.99万元,上年同期为-741.02万元,同比减少113.35%\n"
     ]
    }
   ],
   "source": [
    "print(line1_q2)\n",
    "print(line2_q2)\n",
    "print(line3_q2)"
   ]
  },
  {
   "cell_type": "code",
   "execution_count": null,
   "metadata": {},
   "outputs": [],
   "source": []
  }
 ],
 "metadata": {
  "kernelspec": {
   "display_name": "Python 3",
   "language": "python",
   "name": "python3"
  },
  "language_info": {
   "codemirror_mode": {
    "name": "ipython",
    "version": 3
   },
   "file_extension": ".py",
   "mimetype": "text/x-python",
   "name": "python",
   "nbconvert_exporter": "python",
   "pygments_lexer": "ipython3",
   "version": "3.7.6"
  }
 },
 "nbformat": 4,
 "nbformat_minor": 4
}
