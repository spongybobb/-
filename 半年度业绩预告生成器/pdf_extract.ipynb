{
 "cells": [
  {
   "cell_type": "code",
   "execution_count": 1,
   "metadata": {},
   "outputs": [],
   "source": [
    "import camelot\n",
    "import numpy as np\n",
    "tables = camelot.read_pdf('2020-06-23-300045.SZ-华力创通_2020年半年度业绩预告.pdf') #读取pdf"
   ]
  },
  {
   "cell_type": "code",
   "execution_count": 2,
   "metadata": {},
   "outputs": [],
   "source": [
    "tables\n",
    "tables.export('2020-06-23-300045.SZ-华力创通_2020年半年度业绩预告.xlsx', f='excel', compress=False) # 导出excel表格"
   ]
  },
  {
   "cell_type": "code",
   "execution_count": 3,
   "metadata": {},
   "outputs": [
    {
     "data": {
      "text/plain": [
       "<Table shape=(3, 3)>"
      ]
     },
     "execution_count": 3,
     "metadata": {},
     "output_type": "execute_result"
    }
   ],
   "source": [
    "tables[0] #显示表格的dimension"
   ]
  },
  {
   "cell_type": "code",
   "execution_count": 4,
   "metadata": {},
   "outputs": [
    {
     "data": {
      "text/plain": [
       "{'accuracy': 100.0, 'whitespace': 22.22, 'order': 1, 'page': 1}"
      ]
     },
     "execution_count": 4,
     "metadata": {},
     "output_type": "execute_result"
    }
   ],
   "source": [
    "tables[0].parsing_report #表格的精确度"
   ]
  },
  {
   "cell_type": "code",
   "execution_count": 5,
   "metadata": {},
   "outputs": [],
   "source": [
    "#tables[0].to_excel('2020-06-23-300045.SZ-华力创通_2020年半年度业绩预告.xlsx') # to_json, to_excel, to_html"
   ]
  },
  {
   "cell_type": "code",
   "execution_count": 6,
   "metadata": {},
   "outputs": [
    {
     "data": {
      "text/html": [
       "<div>\n",
       "<style scoped>\n",
       "    .dataframe tbody tr th:only-of-type {\n",
       "        vertical-align: middle;\n",
       "    }\n",
       "\n",
       "    .dataframe tbody tr th {\n",
       "        vertical-align: top;\n",
       "    }\n",
       "\n",
       "    .dataframe thead th {\n",
       "        text-align: right;\n",
       "    }\n",
       "</style>\n",
       "<table border=\"1\" class=\"dataframe\">\n",
       "  <thead>\n",
       "    <tr style=\"text-align: right;\">\n",
       "      <th></th>\n",
       "      <th>0</th>\n",
       "      <th>1</th>\n",
       "      <th>2</th>\n",
       "    </tr>\n",
       "  </thead>\n",
       "  <tbody>\n",
       "    <tr>\n",
       "      <th>0</th>\n",
       "      <td>项  目</td>\n",
       "      <td>本报告期</td>\n",
       "      <td>上年同期</td>\n",
       "    </tr>\n",
       "    <tr>\n",
       "      <th>1</th>\n",
       "      <td>归属于上市公\\n司股东的净利\\n润</td>\n",
       "      <td>比上年同期增长：50% - 70%</td>\n",
       "      <td>盈利：2,012.71 万元</td>\n",
       "    </tr>\n",
       "    <tr>\n",
       "      <th>2</th>\n",
       "      <td></td>\n",
       "      <td>盈利：3,019.07 万元–3,421.61 万元</td>\n",
       "      <td></td>\n",
       "    </tr>\n",
       "  </tbody>\n",
       "</table>\n",
       "</div>"
      ],
      "text/plain": [
       "                   0                           1               2\n",
       "0               项  目                        本报告期            上年同期\n",
       "1  归属于上市公\\n司股东的净利\\n润           比上年同期增长：50% - 70%  盈利：2,012.71 万元\n",
       "2                     盈利：3,019.07 万元–3,421.61 万元                "
      ]
     },
     "execution_count": 6,
     "metadata": {},
     "output_type": "execute_result"
    }
   ],
   "source": [
    "tables[0].df # get a pandas DataFrame!"
   ]
  },
  {
   "cell_type": "code",
   "execution_count": 7,
   "metadata": {},
   "outputs": [],
   "source": [
    "data = tables[0].df.values #写入表格的数值"
   ]
  },
  {
   "cell_type": "code",
   "execution_count": 8,
   "metadata": {},
   "outputs": [
    {
     "data": {
      "text/plain": [
       "(3, 3)"
      ]
     },
     "execution_count": 8,
     "metadata": {},
     "output_type": "execute_result"
    }
   ],
   "source": [
    "np.shape(data)"
   ]
  },
  {
   "cell_type": "code",
   "execution_count": 9,
   "metadata": {},
   "outputs": [
    {
     "data": {
      "text/plain": [
       "{'obj': '归属于上市公\\n司股东的净利\\n润',\n",
       " 'this': '盈利：3,019.07 万元–3,421.61 万元',\n",
       " 'last': '盈利：2,012.71 万元',\n",
       " 'varpct': '比上年同期增长：50% - 70%'}"
      ]
     },
     "execution_count": 9,
     "metadata": {},
     "output_type": "execute_result"
    }
   ],
   "source": [
    "data_dict = {'obj':data[1,0],'this':data[2,1],'last':data[1,2],'varpct':data[1,1]} #把数据写入dict\n",
    "\n",
    "data_dict "
   ]
  },
  {
   "cell_type": "code",
   "execution_count": null,
   "metadata": {},
   "outputs": [],
   "source": []
  },
  {
   "cell_type": "code",
   "execution_count": 10,
   "metadata": {},
   "outputs": [],
   "source": [
    "# 1 盈利\n",
    "#预计20H1归母净利xx亿元至xx亿元，中值xx亿元；19H1为盈利xx亿元，同比下降xx%-xx%，中值为下降xx%。\n",
    "#据此推算，预计20Q2归母净利xx万元至xx亿元，中值xx亿元；19Q2为盈利xx亿元，同比下降xx%-xx%，中值为下降xx%。\n"
   ]
  },
  {
   "cell_type": "code",
   "execution_count": null,
   "metadata": {},
   "outputs": [],
   "source": []
  },
  {
   "cell_type": "code",
   "execution_count": 11,
   "metadata": {},
   "outputs": [],
   "source": [
    "# 2 盈利\n",
    "#预计20H1归母净利xx亿元至xx亿元，中值xx亿元；19H1为盈利xx亿元，同比增长xx%-xx%，中值为增长xx%。\n",
    "#据此推算，预计20Q2归母净利xx万元至xx亿元，中值xx亿元；19Q2为盈利xx亿元，同比下降xx%-xx%，中值为下降xx%。\n"
   ]
  },
  {
   "cell_type": "code",
   "execution_count": 14,
   "metadata": {},
   "outputs": [],
   "source": [
    "#string processing to get the two number and then take mean\n",
    "\n",
    "a1 = data_dict[\"this\"] #\"盈利：3,019.07 万元–3,421.61 万元\"\n",
    "aa1 = a1.replace(\"–\",\"至\")\n",
    "aaa1 = aa1[3:].split(\"万元\")\n",
    "aaaa1 = aaa1[0].replace(',','')\n",
    "# x  = 归母净利下限\n",
    "x = float(aaaa1)\n"
   ]
  },
  {
   "cell_type": "code",
   "execution_count": 15,
   "metadata": {},
   "outputs": [],
   "source": [
    "q = aaa1[1].replace('至','')\n",
    "qq = q.replace(',','')\n",
    "# y  = 归母净利上限\n",
    "y = float(qq)\n",
    "\n",
    "#计算归母净利的平均值\n",
    "mean1 = 0.5*(x + y)\n",
    "\n"
   ]
  },
  {
   "cell_type": "code",
   "execution_count": 16,
   "metadata": {},
   "outputs": [],
   "source": [
    "b1 = data_dict[\"last\"]\n",
    "bb1 = b1[3:].split(\"万元\")\n",
    "# z = 去年的归母净利\n",
    "z = bb1[0]\n"
   ]
  },
  {
   "cell_type": "code",
   "execution_count": 17,
   "metadata": {},
   "outputs": [],
   "source": [
    "bb1dash = data_dict[\"last\"].replace('：','')\n",
    "bbb1dash = bb1dash.replace(',','')\n"
   ]
  },
  {
   "cell_type": "code",
   "execution_count": 18,
   "metadata": {},
   "outputs": [],
   "source": [
    "\n",
    "c1 = data_dict[\"varpct\"]\n",
    "cc1 = c1[8:].split('-')\n",
    "ccc1 = cc1[0].replace('%','')\n",
    "cccc1 = cc1[1].replace('%','')\n",
    "\n",
    "#计算同比增长率的平均数\n",
    "mean_pct = 0.5*(float(ccc1) + float(cccc1))\n"
   ]
  },
  {
   "cell_type": "code",
   "execution_count": 19,
   "metadata": {},
   "outputs": [
    {
     "name": "stdout",
     "output_type": "stream",
     "text": [
      "预计20H1归母净利3019.07万元3421.61万元，中值3220.34万元；19H1为盈利2012.71 万元，中值为增长60.0%\n"
     ]
    }
   ],
   "source": [
    "print(\"预计20H1归母净利\" + str(x) + \"万元\" + str(y) + \"万元\" + '，' + \"中值\" + str(mean1) + \"万元\" + '；' + \"19H1为\" + bbb1dash + '，' + \"中值为增长\" + str(mean_pct)+'%')\n",
    "\n"
   ]
  },
  {
   "cell_type": "code",
   "execution_count": null,
   "metadata": {},
   "outputs": [],
   "source": []
  },
  {
   "cell_type": "code",
   "execution_count": null,
   "metadata": {},
   "outputs": [],
   "source": [
    "dic1 = {'obj':\"ss\",'val':\"ww\"}\n",
    "dic1[\"obj\"]"
   ]
  },
  {
   "cell_type": "code",
   "execution_count": null,
   "metadata": {},
   "outputs": [],
   "source": [
    "bigdic = {\"a\":dic1,\"b\":data_dict}"
   ]
  },
  {
   "cell_type": "code",
   "execution_count": null,
   "metadata": {},
   "outputs": [],
   "source": [
    "bigdic[\"a\"]['val']\n"
   ]
  },
  {
   "cell_type": "code",
   "execution_count": null,
   "metadata": {},
   "outputs": [],
   "source": []
  },
  {
   "cell_type": "code",
   "execution_count": null,
   "metadata": {},
   "outputs": [],
   "source": []
  }
 ],
 "metadata": {
  "kernelspec": {
   "display_name": "Python 3",
   "language": "python",
   "name": "python3"
  },
  "language_info": {
   "codemirror_mode": {
    "name": "ipython",
    "version": 3
   },
   "file_extension": ".py",
   "mimetype": "text/x-python",
   "name": "python",
   "nbconvert_exporter": "python",
   "pygments_lexer": "ipython3",
   "version": "3.7.6"
  }
 },
 "nbformat": 4,
 "nbformat_minor": 4
}
