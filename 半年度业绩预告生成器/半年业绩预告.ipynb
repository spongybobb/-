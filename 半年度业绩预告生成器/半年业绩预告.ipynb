{
 "cells": [
  {
   "cell_type": "code",
   "execution_count": 1,
   "metadata": {},
   "outputs": [
    {
     "name": "stdout",
     "output_type": "stream",
     "text": [
      "Welcome to use Wind Quant API for Python (WindPy)!\n",
      "\n",
      "COPYRIGHT (C) 2017 WIND INFORMATION CO., LTD. ALL RIGHTS RESERVED.\n",
      "IN NO CIRCUMSTANCE SHALL WIND BE RESPONSIBLE FOR ANY DAMAGES OR LOSSES CAUSED BY USING WIND QUANT API FOR Python.\n"
     ]
    }
   ],
   "source": [
    "import camelot\n",
    "import numpy as np\n",
    "import pandas as pd\n",
    "from WindPy import w\n",
    "\n",
    "w.start() # 默认命令超时时间为120秒，如需设置超时时间可以加入waitTime参数，例如waitTime=60,即设置命令超时时间为60秒 \n",
    "\n",
    "w.isconnected() # 判断WindPy是否已经登录成功\n",
    "\n",
    "tables = camelot.read_pdf('2020-06-23-300045.SZ-华力创通_2020年半年度业绩预告.pdf') #读取pdf"
   ]
  },
  {
   "cell_type": "code",
   "execution_count": 2,
   "metadata": {},
   "outputs": [],
   "source": [
    "# 命令如何写可以用命令生成器来辅助完成\n",
    "# 定义打印输出函数，用来展示数据使用\n",
    "def printpy(outdata):\n",
    "    if outdata.ErrorCode!=0:\n",
    "        print('error code:'+str(outdata.ErrorCode)+'\\n');\n",
    "        return();\n",
    "    for i in range(0,len(outdata.Data[0])):\n",
    "        strTemp=''\n",
    "        if len(outdata.Times)>1:\n",
    "            strTemp=str(outdata.Times[i])+' '\n",
    "        for k in range(0, len(outdata.Fields)):\n",
    "            strTemp=strTemp+str(outdata.Data[k][i])+' '\n",
    "        print(strTemp)"
   ]
  },
  {
   "cell_type": "code",
   "execution_count": 3,
   "metadata": {},
   "outputs": [],
   "source": [
    "def moneyconvert(amount):\n",
    "    if amount >= 10000 and amount < 100000000:\n",
    "        val = round(amount/10000,2)\n",
    "        value = str(val) + \"万元\"\n",
    "    elif amount >= 100000000:\n",
    "        val = round(amount/100000000,2)\n",
    "        value = str(val) + \"亿元\"\n",
    "        \n",
    "    return value "
   ]
  },
  {
   "cell_type": "code",
   "execution_count": null,
   "metadata": {},
   "outputs": [],
   "source": []
  },
  {
   "cell_type": "code",
   "execution_count": 4,
   "metadata": {},
   "outputs": [
    {
     "data": {
      "text/plain": [
       "<TableList n=1>"
      ]
     },
     "execution_count": 4,
     "metadata": {},
     "output_type": "execute_result"
    }
   ],
   "source": [
    "tables\n",
    "#tables.export('2020-07-07-300229.SZ-拓尔思_2020年半年度业绩预告.xlsx', f='excel', compress=False) # 导出excel表格"
   ]
  },
  {
   "cell_type": "code",
   "execution_count": 5,
   "metadata": {},
   "outputs": [
    {
     "data": {
      "text/plain": [
       "<Table shape=(3, 3)>"
      ]
     },
     "execution_count": 5,
     "metadata": {},
     "output_type": "execute_result"
    }
   ],
   "source": [
    "tables[0] #显示表格的dimension"
   ]
  },
  {
   "cell_type": "code",
   "execution_count": 6,
   "metadata": {},
   "outputs": [
    {
     "data": {
      "text/plain": [
       "{'accuracy': 100.0, 'whitespace': 22.22, 'order': 1, 'page': 1}"
      ]
     },
     "execution_count": 6,
     "metadata": {},
     "output_type": "execute_result"
    }
   ],
   "source": [
    "tables[0].parsing_report #表格的精确度"
   ]
  },
  {
   "cell_type": "code",
   "execution_count": 7,
   "metadata": {},
   "outputs": [],
   "source": [
    "#tables[0].to_excel('2020-06-23-300045.SZ-华力创通_2020年半年度业绩预告.xlsx') # to_json, to_excel, to_html"
   ]
  },
  {
   "cell_type": "code",
   "execution_count": 8,
   "metadata": {},
   "outputs": [
    {
     "data": {
      "text/html": [
       "<div>\n",
       "<style scoped>\n",
       "    .dataframe tbody tr th:only-of-type {\n",
       "        vertical-align: middle;\n",
       "    }\n",
       "\n",
       "    .dataframe tbody tr th {\n",
       "        vertical-align: top;\n",
       "    }\n",
       "\n",
       "    .dataframe thead th {\n",
       "        text-align: right;\n",
       "    }\n",
       "</style>\n",
       "<table border=\"1\" class=\"dataframe\">\n",
       "  <thead>\n",
       "    <tr style=\"text-align: right;\">\n",
       "      <th></th>\n",
       "      <th>0</th>\n",
       "      <th>1</th>\n",
       "      <th>2</th>\n",
       "    </tr>\n",
       "  </thead>\n",
       "  <tbody>\n",
       "    <tr>\n",
       "      <th>0</th>\n",
       "      <td>项  目</td>\n",
       "      <td>本报告期</td>\n",
       "      <td>上年同期</td>\n",
       "    </tr>\n",
       "    <tr>\n",
       "      <th>1</th>\n",
       "      <td>归属于上市公\\n司股东的净利\\n润</td>\n",
       "      <td>比上年同期增长：50% - 70%</td>\n",
       "      <td>盈利：2,012.71 万元</td>\n",
       "    </tr>\n",
       "    <tr>\n",
       "      <th>2</th>\n",
       "      <td></td>\n",
       "      <td>盈利：3,019.07 万元–3,421.61 万元</td>\n",
       "      <td></td>\n",
       "    </tr>\n",
       "  </tbody>\n",
       "</table>\n",
       "</div>"
      ],
      "text/plain": [
       "                   0                           1               2\n",
       "0               项  目                        本报告期            上年同期\n",
       "1  归属于上市公\\n司股东的净利\\n润           比上年同期增长：50% - 70%  盈利：2,012.71 万元\n",
       "2                     盈利：3,019.07 万元–3,421.61 万元                "
      ]
     },
     "execution_count": 8,
     "metadata": {},
     "output_type": "execute_result"
    }
   ],
   "source": [
    "tables[0].df # get a pandas DataFrame!"
   ]
  },
  {
   "cell_type": "code",
   "execution_count": 9,
   "metadata": {},
   "outputs": [],
   "source": [
    "data = tables[0].df.values #写入表格的数值"
   ]
  },
  {
   "cell_type": "code",
   "execution_count": 10,
   "metadata": {},
   "outputs": [
    {
     "data": {
      "text/plain": [
       "(3, 3)"
      ]
     },
     "execution_count": 10,
     "metadata": {},
     "output_type": "execute_result"
    }
   ],
   "source": [
    "np.shape(data)"
   ]
  },
  {
   "cell_type": "code",
   "execution_count": 11,
   "metadata": {},
   "outputs": [
    {
     "data": {
      "text/plain": [
       "{'obj': '归属于上市公\\n司股东的净利\\n润',\n",
       " 'this': '盈利：3,019.07 万元–3,421.61 万元',\n",
       " 'last': '盈利：2,012.71 万元',\n",
       " 'varpct': '比上年同期增长：50% - 70%'}"
      ]
     },
     "execution_count": 11,
     "metadata": {},
     "output_type": "execute_result"
    }
   ],
   "source": [
    "data_dict = {'obj':data[1,0],'this':data[2,1],'last':data[1,2],'varpct':data[1,1]} #把数据写入dict\n",
    "\n",
    "data_dict "
   ]
  },
  {
   "cell_type": "code",
   "execution_count": null,
   "metadata": {},
   "outputs": [],
   "source": []
  },
  {
   "cell_type": "code",
   "execution_count": 12,
   "metadata": {},
   "outputs": [],
   "source": [
    "# 1 盈利\n",
    "#预计20H1归母净利xx亿元至xx亿元，中值xx亿元；19H1为盈利xx亿元，同比下降xx%-xx%，中值为下降xx%。\n",
    "#据此推算，预计20Q2归母净利xx万元至xx亿元，中值xx亿元；19Q2为盈利xx亿元，同比下降xx%-xx%，中值为下降xx%。\n"
   ]
  },
  {
   "cell_type": "code",
   "execution_count": null,
   "metadata": {},
   "outputs": [],
   "source": []
  },
  {
   "cell_type": "code",
   "execution_count": 13,
   "metadata": {},
   "outputs": [],
   "source": [
    "# 2 盈利\n",
    "#预计20H1归母净利xx亿元至xx亿元，中值xx亿元；19H1为盈利xx亿元，同比增长xx%-xx%，中值为增长xx%。\n",
    "#据此推算，预计20Q2归母净利xx万元至xx亿元，中值xx亿元；19Q2为盈利xx亿元，同比下降xx%-xx%，中值为下降xx%。\n"
   ]
  },
  {
   "cell_type": "code",
   "execution_count": 14,
   "metadata": {},
   "outputs": [],
   "source": [
    "#string processing to get the two number and then take mean\n",
    "\n",
    "a1 = data_dict[\"this\"] #\"盈利：3,019.07 万元–3,421.61 万元\"\n",
    "aa1 = a1.replace(\"–\",\"至\")\n",
    "aaa1 = aa1[3:].split(\"万元\")\n",
    "aaaa1 = aaa1[0].replace(',','')\n",
    "# x  = 归母净利下限\n",
    "x = float(aaaa1)\n"
   ]
  },
  {
   "cell_type": "code",
   "execution_count": 15,
   "metadata": {},
   "outputs": [],
   "source": [
    "q = aaa1[1].replace('至','')\n",
    "qq = q.replace(',','')\n",
    "# y  = 归母净利上限\n",
    "y = float(qq)\n",
    "\n",
    "#计算归母净利的平均值\n",
    "mean1 = 0.5*(x + y)\n",
    "\n"
   ]
  },
  {
   "cell_type": "code",
   "execution_count": 16,
   "metadata": {},
   "outputs": [],
   "source": [
    "b1 = data_dict[\"last\"]\n",
    "bb1 = b1[3:].split(\"万元\")\n",
    "# z = 去年的归母净利\n",
    "z = bb1[0]\n"
   ]
  },
  {
   "cell_type": "code",
   "execution_count": 17,
   "metadata": {},
   "outputs": [],
   "source": [
    "bb1dash = data_dict[\"last\"].replace('：','')\n",
    "bbb1dash = bb1dash.replace(',','')\n"
   ]
  },
  {
   "cell_type": "code",
   "execution_count": 18,
   "metadata": {},
   "outputs": [],
   "source": [
    "\n",
    "c1 = data_dict[\"varpct\"]\n",
    "cc1 = c1[8:].split('-')\n",
    "ccc1 = cc1[0].replace('%','')\n",
    "cccc1 = cc1[1].replace('%','')\n",
    "\n",
    "#计算同比增长率的平均数\n",
    "mean_pct = 0.5*(float(ccc1) + float(cccc1))\n"
   ]
  },
  {
   "cell_type": "code",
   "execution_count": null,
   "metadata": {},
   "outputs": [],
   "source": []
  },
  {
   "cell_type": "code",
   "execution_count": 19,
   "metadata": {},
   "outputs": [
    {
     "data": {
      "text/plain": [
       ".ErrorCode=0\n",
       ".Codes=[300045.SZ]\n",
       ".Fields=[NP_BELONGTO_PARCOMSH]\n",
       ".Times=[20190331,20190630,20190930,20191231,20200331]\n",
       ".Data=[[10206910.92,20127056.97,41304664.72,-147549739.89,20730810.13]]"
      ]
     },
     "execution_count": 19,
     "metadata": {},
     "output_type": "execute_result"
    }
   ],
   "source": [
    "wsddata2 = w.wsd(\"300045.SZ\", \"np_belongto_parcomsh\", \"2019-01-01\", \"2020-03-31\", \"rptType=1;Period=Q;Days=Alldays;Fill=Previous\")\n",
    "wsddata2"
   ]
  },
  {
   "cell_type": "code",
   "execution_count": 20,
   "metadata": {},
   "outputs": [],
   "source": [
    "# #转成dataframe\n",
    "# fm=pd.DataFrame(wsddata2.Data,index=wsddata2.Fields,columns=wsddata2.Times)\n",
    "# fm=fm.T #转置\n",
    "# fm.loc[fm.index[0],'NP_BELONGTO_PARCOMSH'] #选取2019年q1数据\n",
    "# #fm.values[0]\n",
    "# #fm.index"
   ]
  },
  {
   "cell_type": "code",
   "execution_count": 21,
   "metadata": {},
   "outputs": [],
   "source": [
    "lastq1 = wsddata2.Data[0][0] #选取2019年q1数据\n",
    "lasth1 = wsddata2.Data[0][1] #选取2019年h1数据\n",
    "thisq1 = wsddata2.Data[0][4] #选取2020年q1数据\n",
    "lastq2 = lasth1 - lastq1     #计算2019年q2数据\n",
    "\n",
    "thish1_lower = x * 10000\n",
    "thish1_upper = y * 10000\n",
    "\n",
    "thisq2_lower = thish1_lower - thisq1     #计算2020年q2下限\n",
    "thisq2_upper = thish1_upper - thisq1     #计算2020年q2上限\n",
    "thisq2_mean = 0.5*(thisq2_lower+thisq2_upper)\n",
    "\n",
    "#计算同比增长/减少\n",
    "growth_year_lower = (thisq2_lower - lastq2)/abs(lastq2) * 100\n",
    "growth_year_upper = (thisq2_upper - lastq2)/abs(lastq2) * 100\n",
    "growth_year_mean = 0.5*(growth_year_lower+growth_year_upper)"
   ]
  },
  {
   "cell_type": "code",
   "execution_count": 22,
   "metadata": {},
   "outputs": [
    {
     "name": "stdout",
     "output_type": "stream",
     "text": [
      "预计20H1归母净利3019.07万元3421.61万元，中值3220.34万元；19H1为盈利2012.71 万元，同比增长50 %- 70%，中值为增长60.0%\n",
      "据此推算，预计20Q2归母净利945.99万元1348.53万元，中值1147.26万元；19Q2为盈利992.01万元，同比增长-4.64%-35.94%，中值为增长15.65%\n"
     ]
    }
   ],
   "source": [
    "line1 = \"预计20H1归母净利\" + str(x) + \"万元\" + str(y) + \"万元\" + '，' + \"中值\" + str(mean1) + \"万元\" + '；' + \"19H1为\" + bbb1dash + '，' +\"同比增长\"+ ccc1 + '%' + '-' + cccc1 + '%' + '，'+ \"中值为增长\" + str(mean_pct)+'%'\n",
    "\n",
    "line2 = \"据此推算，预计20Q2归母净利\" + moneyconvert(thisq2_lower) + moneyconvert(thisq2_upper)  + '，' + \"中值\" + moneyconvert(thisq2_mean) + '；' + \"19Q2为盈利\" + moneyconvert(lastq2) + \"，同比增长\" + str(round(growth_year_lower,2)) + '%' + '-' + str(round(growth_year_upper,2)) + '%' + '，'+ \"中值为增长\" + str(round(growth_year_mean,2))+'%'\n",
    "\n",
    "print(line1)\n",
    "print(line2)\n",
    "\n"
   ]
  },
  {
   "cell_type": "code",
   "execution_count": null,
   "metadata": {},
   "outputs": [],
   "source": [
    "\n"
   ]
  },
  {
   "cell_type": "code",
   "execution_count": null,
   "metadata": {},
   "outputs": [],
   "source": []
  },
  {
   "cell_type": "code",
   "execution_count": null,
   "metadata": {},
   "outputs": [],
   "source": []
  },
  {
   "cell_type": "code",
   "execution_count": null,
   "metadata": {},
   "outputs": [],
   "source": []
  },
  {
   "cell_type": "code",
   "execution_count": null,
   "metadata": {},
   "outputs": [],
   "source": []
  },
  {
   "cell_type": "code",
   "execution_count": null,
   "metadata": {},
   "outputs": [],
   "source": []
  },
  {
   "cell_type": "code",
   "execution_count": null,
   "metadata": {},
   "outputs": [],
   "source": []
  }
 ],
 "metadata": {
  "kernelspec": {
   "display_name": "Python 3",
   "language": "python",
   "name": "python3"
  },
  "language_info": {
   "codemirror_mode": {
    "name": "ipython",
    "version": 3
   },
   "file_extension": ".py",
   "mimetype": "text/x-python",
   "name": "python",
   "nbconvert_exporter": "python",
   "pygments_lexer": "ipython3",
   "version": "3.7.6"
  }
 },
 "nbformat": 4,
 "nbformat_minor": 4
}
